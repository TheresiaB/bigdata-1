{
 "cells": [
  {
   "cell_type": "markdown",
   "metadata": {},
   "source": [
    "Animation: https://www.cs.usfca.edu/~galles/visualization/BST.html"
   ]
  },
  {
   "cell_type": "markdown",
   "metadata": {},
   "source": [
    "Sources used for understanding and reference:\n",
    "- https://www.tutorialspoint.com/python_data_structure/python_binary_search_tree.htm\n",
    "- https://stackoverflow.com/questions/5444394/how-to-implement-a-binary-search-tree-in-python\n",
    "- https://github.com/luisdiegocm/HWR_BigData_Repo/blob/master/7%20Binary%20Search%20Tree-%20ldconejo.ipynb\n",
    "- https://medium.com/@stephenagrice/how-to-implement-a-binary-search-tree-in-python-e1cdba29c533\n",
    "- https://www.cs.cmu.edu/~adamchik/15-121/lectures/Trees/trees.html"
   ]
  },
  {
   "cell_type": "code",
   "execution_count": 1,
   "metadata": {},
   "outputs": [],
   "source": [
    "class Node:\n",
    "    \"\"\"\n",
    "    Tree node with left and right child and data\n",
    "    \"\"\"\n",
    "    def __init__(self, data):\n",
    "        # TODO\n",
    "        self.data = data\n",
    "        self.left = None\n",
    "        self.right = None"
   ]
  },
  {
   "cell_type": "code",
   "execution_count": 2,
   "metadata": {},
   "outputs": [],
   "source": [
    "class Tree:\n",
    "    def __init__(self):\n",
    "        \"\"\"Create an empty binary search tree\"\"\"\n",
    "        # TODO\n",
    "        self.root = None\n",
    "        self.size = 0\n",
    "    \n",
    "    def insert(self, item):\n",
    "        \"\"\"Add an item in the binary search tree\"\"\"\n",
    "        # TODO\n",
    "        #option 1 - works\n",
    "        if self.root is None:\n",
    "            self.root = Node(item)\n",
    "        \n",
    "        else:\n",
    "            node = self.root\n",
    "            pre = self.root\n",
    "            \n",
    "            while node is not None:\n",
    "                if item < node.data:\n",
    "                    pre = node\n",
    "                    node = node.left\n",
    "                else:\n",
    "                    pre = node\n",
    "                    node = node.right\n",
    "                    \n",
    "            if item < pre.data:\n",
    "                pre.left = Node(item)\n",
    "            else:\n",
    "                pre.right = Node(item)\n",
    "        \n",
    "        \"\"\"\n",
    "        #option 2 - wrong result\n",
    "        if self.root is None:\n",
    "            self.root = Node(item)\n",
    "        \n",
    "        else:\n",
    "            node = self.root\n",
    "            if item < node.data:\n",
    "                if node.left is None:\n",
    "                    node.left = Node(item)\n",
    "                #else:\n",
    "                    #insert(node.root.left, item)\n",
    "                    #node.left.insert(item)\n",
    "            \n",
    "            else:\n",
    "            #elif item > node.data:\n",
    "                if node.right is None:\n",
    "                    node.right = Node(item)\n",
    "                #else:\n",
    "                    #insert(node.root.right, item)\n",
    "                    #node.right.insert(item)\n",
    "                    \n",
    "        \n",
    "        #option 3 - recursively - error\n",
    "        if self.root is None:\n",
    "            self.root = Node(item)\n",
    "        \n",
    "        else:\n",
    "            node = self.root\n",
    "            if item < node.data:\n",
    "                if node.left is None:\n",
    "                    node.left = Node(item)\n",
    "                else:\n",
    "                    insert(node.root.left, item)\n",
    "                    #node.left.insert(item)\n",
    "            \n",
    "            else:\n",
    "            #elif item > node.data:\n",
    "                if node.right is None:\n",
    "                    node.right = Node(item)\n",
    "                else:\n",
    "                    insert(node.root.right, item)\n",
    "                    #node.right.insert(item)\n",
    "        \"\"\"\n",
    "    \n",
    "    def find(self, item):\n",
    "        \"\"\"Returns true if item is in the tree or false otherwise\"\"\"\n",
    "        # TODO\n",
    "        #option 1 - works\n",
    "        node = self.root\n",
    "\n",
    "        while node is not None:\n",
    "            if node.data == item:\n",
    "                return True\n",
    "            elif item > node.data and node.right:\n",
    "                node = node.right\n",
    "            else:\n",
    "                node = node.left\n",
    "        return False\n",
    "        \n",
    "        \"\"\"\n",
    "        #option 2 - result displayed wrong\n",
    "        node = self.root\n",
    "        if self.root is None:\n",
    "            return False\n",
    "        elif self.root == item:\n",
    "            return True\n",
    "        elif item > node.data and node.right:\n",
    "            return node.right\n",
    "            #return node.right.find(item)\n",
    "        elif item < node.data and node.left:\n",
    "            return node.left\n",
    "            #return node.left.find(item)\n",
    "        else:\n",
    "            return False\n",
    "        \"\"\""
   ]
  },
  {
   "cell_type": "code",
   "execution_count": 3,
   "metadata": {},
   "outputs": [],
   "source": [
    "tree = Tree()"
   ]
  },
  {
   "cell_type": "code",
   "execution_count": 4,
   "metadata": {},
   "outputs": [],
   "source": [
    "tree.insert(30)\n",
    "tree.insert(5)\n",
    "tree.insert(50)\n",
    "tree.insert(8)\n",
    "tree.insert(3)\n",
    "tree.insert(100)\n",
    "tree.insert(40)"
   ]
  },
  {
   "cell_type": "code",
   "execution_count": 5,
   "metadata": {},
   "outputs": [
    {
     "data": {
      "text/plain": [
       "True"
      ]
     },
     "execution_count": 5,
     "metadata": {},
     "output_type": "execute_result"
    }
   ],
   "source": [
    "tree.find(8)"
   ]
  },
  {
   "cell_type": "code",
   "execution_count": 6,
   "metadata": {},
   "outputs": [
    {
     "data": {
      "text/plain": [
       "False"
      ]
     },
     "execution_count": 6,
     "metadata": {},
     "output_type": "execute_result"
    }
   ],
   "source": [
    "tree.find(9)"
   ]
  },
  {
   "cell_type": "markdown",
   "metadata": {},
   "source": [
    "## Why is the worst case time complexity of the find method only $O(n)$ and not $O(log n)$?"
   ]
  },
  {
   "cell_type": "markdown",
   "metadata": {
    "collapsed": true
   },
   "source": [
    "In the worst case, the algorithm has to go through the longest path of the tree to a leaf node. This is equivalent to the height of the tree. Given n = height of tree, the time comlpexity is O(n)."
   ]
  }
 ],
 "metadata": {
  "kernelspec": {
   "display_name": "Python 3",
   "language": "python",
   "name": "python3"
  },
  "language_info": {
   "codemirror_mode": {
    "name": "ipython",
    "version": 3
   },
   "file_extension": ".py",
   "mimetype": "text/x-python",
   "name": "python",
   "nbconvert_exporter": "python",
   "pygments_lexer": "ipython3",
   "version": "3.7.6"
  },
  "varInspector": {
   "cols": {
    "lenName": 16,
    "lenType": 16,
    "lenVar": 40
   },
   "kernels_config": {
    "python": {
     "delete_cmd_postfix": "",
     "delete_cmd_prefix": "del ",
     "library": "var_list.py",
     "varRefreshCmd": "print(var_dic_list())"
    },
    "r": {
     "delete_cmd_postfix": ") ",
     "delete_cmd_prefix": "rm(",
     "library": "var_list.r",
     "varRefreshCmd": "cat(var_dic_list()) "
    }
   },
   "types_to_exclude": [
    "module",
    "function",
    "builtin_function_or_method",
    "instance",
    "_Feature"
   ],
   "window_display": false
  }
 },
 "nbformat": 4,
 "nbformat_minor": 2
}
