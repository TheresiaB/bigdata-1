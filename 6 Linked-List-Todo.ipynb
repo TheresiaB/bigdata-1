{
 "cells": [
  {
   "cell_type": "markdown",
   "metadata": {},
   "source": [
    "# Linked List"
   ]
  },
  {
   "cell_type": "markdown",
   "metadata": {},
   "source": [
    "![Linked List](https://cdncontribute.geeksforgeeks.org/wp-content/uploads/Linkedlist-2.png)\n",
    "\n",
    "See https://yongdanielliang.github.io/animation/web/LinkedList.html for an animation."
   ]
  },
  {
   "cell_type": "markdown",
   "metadata": {},
   "source": [
    "Sources used for understanding and reference:\n",
    "- Lecture Slides \"Programming Paradigms\"\n",
    "- https://www.geeksforgeeks.org/linked-list-set-2-inserting-a-node/\n",
    "- https://code.sololearn.com/c3b6govVR63R/#py\n",
    "- https://github.com/luisdiegocm/HWR_BigData_Repo/blob/master/6%20Linked-List-ldconejo.ipynb\n",
    "- https://www.geeksforgeeks.org/linked-list-set-3-deleting-node/"
   ]
  },
  {
   "cell_type": "code",
   "execution_count": 1,
   "metadata": {},
   "outputs": [],
   "source": [
    "class Element:\n",
    "    def __init__(self, data):     \n",
    "        # Todo\n",
    "        self.data = data\n",
    "        self.next = None"
   ]
  },
  {
   "cell_type": "code",
   "execution_count": 2,
   "metadata": {},
   "outputs": [],
   "source": [
    "class LinkedList:\n",
    "    def __init__(self):\n",
    "        # Todo\n",
    "        #self.list_of_elements = []\n",
    "        self.head = None\n",
    "        \n",
    "    def append(self, new_element):\n",
    "        \"\"\"Append the new element at the end of the list.\n",
    "        if there is no element yet in the list, it is the head element.\"\"\"\n",
    "        # Todo\n",
    "        #self.list_of_elements.append(new_element)\n",
    "             \n",
    "        if self.head is None:\n",
    "            self.head = new_element      \n",
    "        \n",
    "        else:\n",
    "            last = self.head\n",
    "            while last.next:\n",
    "                last = last.next\n",
    "            \n",
    "            last.next = new_element\n",
    "    \n",
    "    def get_position(self, position):\n",
    "        \"\"\"Get an element from a particular position.\n",
    "        Assume the first position is the index \"1\".\n",
    "        Return \"None\" if position is not in the list.\"\"\"\n",
    "        # Todo\n",
    "        element = self.head\n",
    "        pos = 1\n",
    "        \n",
    "        if position == 1:\n",
    "            return self.head\n",
    "        \n",
    "        else:\n",
    "            while element.next:\n",
    "                pos += 1\n",
    "                element = element.next\n",
    "                if pos == position:\n",
    "                    return element\n",
    "            return None\n",
    "                \n",
    "    def insert(self, new_element, position):\n",
    "        \"\"\"Insert a new node at the given position.\n",
    "        Assume the first position is \"1\".\n",
    "        Inserting at position 3 means between the 2nd and 3rd elements.\"\"\"\n",
    "        # Todo\n",
    "        \n",
    "        #option 1\n",
    "        element = self.head\n",
    "        \n",
    "        if position == 1:\n",
    "            self.head = new_element\n",
    "            new_element.next = element\n",
    "        else:\n",
    "            for i in range(1, position):\n",
    "                pre = element\n",
    "                element = element.next\n",
    "                if element is None:\n",
    "                    return None\n",
    "            next_element = element\n",
    "            pre.next = new_element\n",
    "            new_element.next = next_element\n",
    "        \n",
    "        \"\"\"\n",
    "        #option 2\n",
    "        element = self.head\n",
    "        pos = 1\n",
    "        \n",
    "        while element.next:\n",
    "            pos += 1\n",
    "            if pos == position:\n",
    "                new_element.next = element.next\n",
    "                element.next = new_element\n",
    "            element = element.next\n",
    "        \"\"\"\n",
    "        \n",
    "    def delete(self, data):\n",
    "        \"\"\"Delete the first node with a given value.\"\"\"\n",
    "        # Todo\n",
    "        \n",
    "        element = self.head\n",
    "        \n",
    "        if element.data == data:\n",
    "            self.head = element.next\n",
    "            element = None\n",
    "            \n",
    "        else:\n",
    "            pre = element\n",
    "            element = element.next\n",
    "            while element.next is not None:\n",
    "                if element.data == data:\n",
    "                    pre.next = element.next\n",
    "                    break\n",
    "                else:\n",
    "                    pre = element\n",
    "                    element = element.next\n",
    "            return None                    "
   ]
  },
  {
   "cell_type": "code",
   "execution_count": 3,
   "metadata": {},
   "outputs": [],
   "source": [
    "# Test cases\n",
    "# Set up some Elements\n",
    "e1 = Element(1)\n",
    "e2 = Element(2)\n",
    "e3 = Element(3)\n",
    "e4 = Element(4)\n",
    "\n",
    "# Start setting up a LinkedList\n",
    "llist = LinkedList()\n",
    "llist.append(e1)\n",
    "llist.append(e2)\n",
    "llist.append(e3)"
   ]
  },
  {
   "cell_type": "code",
   "execution_count": 4,
   "metadata": {},
   "outputs": [
    {
     "name": "stdout",
     "output_type": "stream",
     "text": [
      "3\n"
     ]
    }
   ],
   "source": [
    "# Test if appends were correct\n",
    "# Should be 3\n",
    "print(llist.head.next.next.data)"
   ]
  },
  {
   "cell_type": "code",
   "execution_count": 5,
   "metadata": {},
   "outputs": [
    {
     "name": "stdout",
     "output_type": "stream",
     "text": [
      "3\n"
     ]
    }
   ],
   "source": [
    "# Test get_position\n",
    "# Should also be 3\n",
    "print(llist.get_position(3).data)"
   ]
  },
  {
   "cell_type": "code",
   "execution_count": 6,
   "metadata": {},
   "outputs": [
    {
     "name": "stdout",
     "output_type": "stream",
     "text": [
      "4\n"
     ]
    }
   ],
   "source": [
    "# Test insert\n",
    "llist.insert(e4,3)\n",
    "# Should print 4 now\n",
    "print(llist.get_position(3).data)"
   ]
  },
  {
   "cell_type": "code",
   "execution_count": 7,
   "metadata": {},
   "outputs": [
    {
     "name": "stdout",
     "output_type": "stream",
     "text": [
      "2\n",
      "4\n",
      "3\n"
     ]
    }
   ],
   "source": [
    "# Test delete\n",
    "llist.delete(1)\n",
    "# Should print 2 now\n",
    "print(llist.get_position(1).data)\n",
    "# Should print 4 now\n",
    "print(llist.get_position(2).data)\n",
    "# Should print 3 now\n",
    "print(llist.get_position(3).data)"
   ]
  }
 ],
 "metadata": {
  "kernelspec": {
   "display_name": "Python 3",
   "language": "python",
   "name": "python3"
  },
  "language_info": {
   "codemirror_mode": {
    "name": "ipython",
    "version": 3
   },
   "file_extension": ".py",
   "mimetype": "text/x-python",
   "name": "python",
   "nbconvert_exporter": "python",
   "pygments_lexer": "ipython3",
   "version": "3.7.6"
  },
  "varInspector": {
   "cols": {
    "lenName": 16,
    "lenType": 16,
    "lenVar": 40
   },
   "kernels_config": {
    "python": {
     "delete_cmd_postfix": "",
     "delete_cmd_prefix": "del ",
     "library": "var_list.py",
     "varRefreshCmd": "print(var_dic_list())"
    },
    "r": {
     "delete_cmd_postfix": ") ",
     "delete_cmd_prefix": "rm(",
     "library": "var_list.r",
     "varRefreshCmd": "cat(var_dic_list()) "
    }
   },
   "types_to_exclude": [
    "module",
    "function",
    "builtin_function_or_method",
    "instance",
    "_Feature"
   ],
   "window_display": false
  }
 },
 "nbformat": 4,
 "nbformat_minor": 2
}
